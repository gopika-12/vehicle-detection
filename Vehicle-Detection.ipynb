{
 "cells": [
  {
   "cell_type": "code",
   "execution_count": 2,
   "metadata": {
    "collapsed": true
   },
   "outputs": [],
   "source": [
    "%matplotlib inline\n",
    "%reload_ext autoreload\n",
    "%autoreload 2"
   ]
  },
  {
   "cell_type": "markdown",
   "metadata": {},
   "source": [
    "# Vehicle Detection"
   ]
  },
  {
   "cell_type": "code",
   "execution_count": 45,
   "metadata": {
    "collapsed": true
   },
   "outputs": [],
   "source": [
    "import numpy as np\n",
    "import cv2\n",
    "import matplotlib.pyplot as plt\n",
    "import matplotlib.image as mpimg\n",
    "import pdb\n",
    "from pathlib import Path\n",
    "from moviepy.editor import VideoFileClip\n",
    "from skimage.feature import hog\n",
    "from sklearn.preprocessing import StandardScaler\n",
    "from sklearn.model_selection import train_test_split"
   ]
  },
  {
   "cell_type": "code",
   "execution_count": 19,
   "metadata": {},
   "outputs": [
    {
     "data": {
      "text/plain": [
       "[WindowsPath('data/vehicles/GTI_Far'),\n",
       " WindowsPath('data/vehicles/GTI_Left'),\n",
       " WindowsPath('data/vehicles/GTI_MiddleClose'),\n",
       " WindowsPath('data/vehicles/GTI_Right'),\n",
       " WindowsPath('data/vehicles/KITTI_extracted')]"
      ]
     },
     "execution_count": 19,
     "metadata": {},
     "output_type": "execute_result"
    }
   ],
   "source": [
    "PATH = Path('./data/')\n",
    "vehicles = PATH/'vehicles'\n",
    "list(vehicles.iterdir())[:5]"
   ]
  },
  {
   "cell_type": "code",
   "execution_count": 20,
   "metadata": {},
   "outputs": [
    {
     "data": {
      "text/plain": [
       "[WindowsPath('data/vehicles/GTI_Far/image0000.png'),\n",
       " WindowsPath('data/vehicles/GTI_Far/image0001.png'),\n",
       " WindowsPath('data/vehicles/GTI_Far/image0002.png'),\n",
       " WindowsPath('data/vehicles/GTI_Far/image0003.png'),\n",
       " WindowsPath('data/vehicles/GTI_Far/image0004.png')]"
      ]
     },
     "execution_count": 20,
     "metadata": {},
     "output_type": "execute_result"
    }
   ],
   "source": [
    "GTI_Far = vehicles/'GTI_Far'\n",
    "list(GTI_Far.iterdir())[:5]"
   ]
  },
  {
   "cell_type": "code",
   "execution_count": 26,
   "metadata": {
    "collapsed": true
   },
   "outputs": [],
   "source": [
    "def get_hog_features(img, orient=8, pix_per_cell=8, cell_per_block=2, vis=True, feature_vec=True):\n",
    "    hog_features, hog_image = hog(img, orientations=orient,\n",
    "                          pixels_per_cell=(pix_per_cell, pix_per_cell), \n",
    "                          cells_per_block=(cell_per_block, cell_per_block), \n",
    "                          visualise=vis, feature_vector=feature_vec,\n",
    "                          block_norm=\"L2-Hys\")\n",
    "    \n",
    "    if vis: plt.imshow(hog_image)\n",
    "    return hog_features"
   ]
  },
  {
   "cell_type": "code",
   "execution_count": 29,
   "metadata": {},
   "outputs": [
    {
     "name": "stdout",
     "output_type": "stream",
     "text": [
      "(64, 64, 3)\n",
      "(64, 64)\n"
     ]
    }
   ],
   "source": [
    "filename = str(list(GTI_Far.iterdir())[0])\n",
    "img = cv2.imread(filename)\n",
    "print(img.shape)\n",
    "gray = cv2.cvtColor(img, cv2.COLOR_BGR2GRAY)\n",
    "print(gray.shape)"
   ]
  },
  {
   "cell_type": "code",
   "execution_count": 30,
   "metadata": {},
   "outputs": [
    {
     "data": {
      "text/plain": [
       "array([0.01266656, 0.01449117, 0.00387425, ..., 0.00034923, 0.00059008,\n",
       "       0.00018907])"
      ]
     },
     "execution_count": 30,
     "metadata": {},
     "output_type": "execute_result"
    },
    {
     "data": {
      "image/png": "[encoded data removed]",
      "text/plain": [
       "<matplotlib.figure.Figure at 0x135b6ccdef0>"
      ]
     },
     "metadata": {},
     "output_type": "display_data"
    }
   ],
   "source": [
    "get_hog_features(gray, vis=True)"
   ]
  },
  {
   "cell_type": "code",
   "execution_count": 32,
   "metadata": {
    "collapsed": true
   },
   "outputs": [],
   "source": [
    "def bin_spatial(img, cspace='RGB', size=(24, 24)):\n",
    "    # Convert image to new color space (if specified)\n",
    "\n",
    "    # Use cv2.resize().ravel() to create the feature vector\n",
    "    vector = cv2.resize(img, size)\n",
    "    # Return the feature vector\n",
    "    return vector"
   ]
  },
  {
   "cell_type": "code",
   "execution_count": 38,
   "metadata": {
    "collapsed": true
   },
   "outputs": [],
   "source": [
    "def color_hist(img, nbins=32, bins_range=(0, 256)):\n",
    "    # Compute the histogram of the color channels separately\n",
    "    channel1_hist = np.histogram(img[:,:,0], bins=nbins, range=bins_range)\n",
    "    channel2_hist = np.histogram(img[:,:,1], bins=nbins, range=bins_range)\n",
    "    channel3_hist = np.histogram(img[:,:,2], bins=nbins, range=bins_range)\n",
    "    # Concatenate the histograms into a single feature vector\n",
    "    hist_features = np.concatenate((channel1_hist[0], channel2_hist[0], channel3_hist[0]))\n",
    "    # Return the individual histograms, bin_centers and feature vector\n",
    "    return hist_features"
   ]
  },
  {
   "cell_type": "code",
   "execution_count": 40,
   "metadata": {
    "collapsed": true
   },
   "outputs": [],
   "source": [
    "def extract_features(imgs, cspace='RGB', spatial_size=(24, 24),\n",
    "                        hist_bins=32, hist_range=(0, 256)):\n",
    "    features = []\n",
    "    for img in imgs:\n",
    "        # apply color conversion if other than 'RGB'\n",
    "        if cspace == 'HSV':\n",
    "            img = cv2.cvtColor(img, cv2.COLOR_BGR2HSV)\n",
    "        if cspace == 'HLS':\n",
    "            img = cv2.cvtColor(img, cv2.COLOR_BGR2HLS)\n",
    "        bins = bin_spatial(img, spatial_size)\n",
    "        hist = color_hist(img, hist_bins, hist_range)\n",
    "        vec = np.concatenate((bins,hist))\n",
    "        features.append(vec)\n",
    "    return features"
   ]
  },
  {
   "cell_type": "code",
   "execution_count": 41,
   "metadata": {},
   "outputs": [
    {
     "data": {
      "text/plain": [
       "<matplotlib.image.AxesImage at 0x135b7d44eb8>"
      ]
     },
     "execution_count": 41,
     "metadata": {},
     "output_type": "execute_result"
    },
    {
     "data": {
      "image/png": "[encoded data removed]",
      "text/plain": [
       "<matplotlib.figure.Figure at 0x135b780f898>"
      ]
     },
     "metadata": {},
     "output_type": "display_data"
    }
   ],
   "source": [
    "plt.imshow(img)\n",
    "# print(bin_spatial(img, color_space='HSV'))"
   ]
  },
  {
   "cell_type": "code",
   "execution_count": null,
   "metadata": {
    "collapsed": true
   },
   "outputs": [],
   "source": []
  },
  {
   "cell_type": "markdown",
   "metadata": {},
   "source": [
    "For each image, features can be extracted: in this case, HOG and colorspace data. That can then be normalized and passed into a classifier. \n",
    "\n",
    "The training and test sets must be randomized.\n",
    "\n",
    "Support Vector Machines work well with HOG features.\n",
    "\n",
    "# Let's normalize the features"
   ]
  },
  {
   "cell_type": "code",
   "execution_count": null,
   "metadata": {
    "collapsed": true
   },
   "outputs": [],
   "source": [
    "car_features = extract_features(...)\n",
    "notcar_features = extract_features(...)"
   ]
  },
  {
   "cell_type": "code",
   "execution_count": null,
   "metadata": {
    "collapsed": true
   },
   "outputs": [],
   "source": [
    "parameters = {'kernel':('linear', 'rbf'), 'C':[1, 10]} # What params to try\n",
    "svr = svm.SVC() # What alg to use\n",
    "clf = grid_search.GridSearchCV(svr, parameters) # Create a classifier\n",
    "clf.fit(iris.data, iris.target) # Test all params against an accuracy fxn\n",
    "\n",
    "y = np.hstack((np.ones(len(car_features)), # 1 = Car\n",
    "               np.zeros(len(notcar_features)))) # 0 = Not Car\n",
    "\n",
    "X = np.vstack((car_features, notcar_features)).astype(np.float64)\n",
    "\n",
    "\n",
    "rand_state = np.random.randint(0, 100)\n",
    "X_train, X_test, y_train, y_test = train_test_split(\n",
    "    X, y, test_size=0.2, random_state=rand_state)\n",
    "X_scaler = StandardScaler().fit(X_train) # Only fit on training data!\n",
    "scaled_X_train = X_scaler.transform(X_train)\n",
    "scaled_X_test = X_scaler.transform(X_test)\n"
   ]
  }
 ],
 "metadata": {
  "kernelspec": {
   "display_name": "Python 3",
   "language": "python",
   "name": "python3"
  },
  "language_info": {
   "codemirror_mode": {
    "name": "ipython",
    "version": 3
   },
   "file_extension": ".py",
   "mimetype": "text/x-python",
   "name": "python",
   "nbconvert_exporter": "python",
   "pygments_lexer": "ipython3",
   "version": "3.5.2"
  },
  "widgets": {
   "state": {},
   "version": "1.1.2"
  }
 },
 "nbformat": 4,
 "nbformat_minor": 2
}
